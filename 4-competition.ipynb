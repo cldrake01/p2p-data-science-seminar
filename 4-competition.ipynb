{
 "cells": [
  {
   "cell_type": "code",
   "execution_count": 196,
   "id": "initial_id",
   "metadata": {
    "collapsed": true,
    "ExecuteTime": {
     "end_time": "2024-02-29T17:42:22.882110Z",
     "start_time": "2024-02-29T17:42:22.809677Z"
    }
   },
   "outputs": [],
   "source": [
    "import pandas as pd\n",
    "from pandas import DataFrame\n",
    "\n",
    "dataset: DataFrame = pd.read_csv(\"data/house_pricing_data.csv\")\n",
    "\n",
    "X_train: DataFrame = dataset.drop(\"PRICE\", axis=1)\n",
    "y_train: DataFrame = dataset[\"PRICE\"]\n",
    "\n",
    "X_test: DataFrame = pd.read_csv(\"data/testing_data.csv\")\n",
    "y_test: DataFrame = pd.read_csv(\"data/testing_prices.csv\")"
   ]
  },
  {
   "cell_type": "code",
   "outputs": [
    {
     "data": {
      "text/plain": "     Unnamed: 0   TYPE  BEDS  BATH  PROPERTYSQFT    SUBLOCALITY\n0             0  Condo     2   2.0   1400.000000      Manhattan\n1             9  Co-op     2   1.0    978.000000       Brooklyn\n2            12  Co-op     3   1.0   2184.207862         Queens\n3            13  Co-op     2   2.0   2184.207862         Queens\n4            15  Condo     2   2.0   1000.000000  Staten Island\n..          ...    ...   ...   ...           ...            ...\n795        3859  Condo     3   2.0   1709.000000       Brooklyn\n796        3860  Condo     3   1.0   2184.207862         Queens\n797        3861  Co-op     1   1.0   2184.207862         Queens\n798        3864  Condo     3   1.0    393.000000       Brooklyn\n799        3865  Condo     3   1.0    393.000000       Brooklyn\n\n[800 rows x 6 columns]",
      "text/html": "<div>\n<style scoped>\n    .dataframe tbody tr th:only-of-type {\n        vertical-align: middle;\n    }\n\n    .dataframe tbody tr th {\n        vertical-align: top;\n    }\n\n    .dataframe thead th {\n        text-align: right;\n    }\n</style>\n<table border=\"1\" class=\"dataframe\">\n  <thead>\n    <tr style=\"text-align: right;\">\n      <th></th>\n      <th>Unnamed: 0</th>\n      <th>TYPE</th>\n      <th>BEDS</th>\n      <th>BATH</th>\n      <th>PROPERTYSQFT</th>\n      <th>SUBLOCALITY</th>\n    </tr>\n  </thead>\n  <tbody>\n    <tr>\n      <th>0</th>\n      <td>0</td>\n      <td>Condo</td>\n      <td>2</td>\n      <td>2.0</td>\n      <td>1400.000000</td>\n      <td>Manhattan</td>\n    </tr>\n    <tr>\n      <th>1</th>\n      <td>9</td>\n      <td>Co-op</td>\n      <td>2</td>\n      <td>1.0</td>\n      <td>978.000000</td>\n      <td>Brooklyn</td>\n    </tr>\n    <tr>\n      <th>2</th>\n      <td>12</td>\n      <td>Co-op</td>\n      <td>3</td>\n      <td>1.0</td>\n      <td>2184.207862</td>\n      <td>Queens</td>\n    </tr>\n    <tr>\n      <th>3</th>\n      <td>13</td>\n      <td>Co-op</td>\n      <td>2</td>\n      <td>2.0</td>\n      <td>2184.207862</td>\n      <td>Queens</td>\n    </tr>\n    <tr>\n      <th>4</th>\n      <td>15</td>\n      <td>Condo</td>\n      <td>2</td>\n      <td>2.0</td>\n      <td>1000.000000</td>\n      <td>Staten Island</td>\n    </tr>\n    <tr>\n      <th>...</th>\n      <td>...</td>\n      <td>...</td>\n      <td>...</td>\n      <td>...</td>\n      <td>...</td>\n      <td>...</td>\n    </tr>\n    <tr>\n      <th>795</th>\n      <td>3859</td>\n      <td>Condo</td>\n      <td>3</td>\n      <td>2.0</td>\n      <td>1709.000000</td>\n      <td>Brooklyn</td>\n    </tr>\n    <tr>\n      <th>796</th>\n      <td>3860</td>\n      <td>Condo</td>\n      <td>3</td>\n      <td>1.0</td>\n      <td>2184.207862</td>\n      <td>Queens</td>\n    </tr>\n    <tr>\n      <th>797</th>\n      <td>3861</td>\n      <td>Co-op</td>\n      <td>1</td>\n      <td>1.0</td>\n      <td>2184.207862</td>\n      <td>Queens</td>\n    </tr>\n    <tr>\n      <th>798</th>\n      <td>3864</td>\n      <td>Condo</td>\n      <td>3</td>\n      <td>1.0</td>\n      <td>393.000000</td>\n      <td>Brooklyn</td>\n    </tr>\n    <tr>\n      <th>799</th>\n      <td>3865</td>\n      <td>Condo</td>\n      <td>3</td>\n      <td>1.0</td>\n      <td>393.000000</td>\n      <td>Brooklyn</td>\n    </tr>\n  </tbody>\n</table>\n<p>800 rows × 6 columns</p>\n</div>"
     },
     "execution_count": 197,
     "metadata": {},
     "output_type": "execute_result"
    }
   ],
   "source": [
    "X_train"
   ],
   "metadata": {
    "collapsed": false,
    "ExecuteTime": {
     "end_time": "2024-02-29T17:42:22.883561Z",
     "start_time": "2024-02-29T17:42:22.836241Z"
    }
   },
   "id": "65beee9065f6c1ad",
   "execution_count": 197
  },
  {
   "cell_type": "code",
   "outputs": [
    {
     "data": {
      "text/plain": "0       315000\n1       440000\n2       259000\n3       430000\n4       549000\n        ...   \n795    2950000\n796     358000\n797     189999\n798     380000\n799     380000\nName: PRICE, Length: 800, dtype: int64"
     },
     "execution_count": 198,
     "metadata": {},
     "output_type": "execute_result"
    }
   ],
   "source": [
    "y_train"
   ],
   "metadata": {
    "collapsed": false,
    "ExecuteTime": {
     "end_time": "2024-02-29T17:42:22.885733Z",
     "start_time": "2024-02-29T17:42:22.850209Z"
    }
   },
   "id": "51c3db58925c62e3",
   "execution_count": 198
  },
  {
   "cell_type": "code",
   "outputs": [
    {
     "data": {
      "text/plain": "     Unnamed: 0  TYPE  BEDS  BATH  PROPERTYSQFT  SUBLOCALITY\n0             0     1     2   2.0   1400.000000            1\n1             9     0     2   1.0    978.000000            0\n2            12     0     3   1.0   2184.207862            2\n3            13     0     2   2.0   2184.207862            2\n4            15     1     2   2.0   1000.000000            3\n..          ...   ...   ...   ...           ...          ...\n795        3859     1     3   2.0   1709.000000            0\n796        3860     1     3   1.0   2184.207862            2\n797        3861     0     1   1.0   2184.207862            2\n798        3864     1     3   1.0    393.000000            0\n799        3865     1     3   1.0    393.000000            0\n\n[800 rows x 6 columns]",
      "text/html": "<div>\n<style scoped>\n    .dataframe tbody tr th:only-of-type {\n        vertical-align: middle;\n    }\n\n    .dataframe tbody tr th {\n        vertical-align: top;\n    }\n\n    .dataframe thead th {\n        text-align: right;\n    }\n</style>\n<table border=\"1\" class=\"dataframe\">\n  <thead>\n    <tr style=\"text-align: right;\">\n      <th></th>\n      <th>Unnamed: 0</th>\n      <th>TYPE</th>\n      <th>BEDS</th>\n      <th>BATH</th>\n      <th>PROPERTYSQFT</th>\n      <th>SUBLOCALITY</th>\n    </tr>\n  </thead>\n  <tbody>\n    <tr>\n      <th>0</th>\n      <td>0</td>\n      <td>1</td>\n      <td>2</td>\n      <td>2.0</td>\n      <td>1400.000000</td>\n      <td>1</td>\n    </tr>\n    <tr>\n      <th>1</th>\n      <td>9</td>\n      <td>0</td>\n      <td>2</td>\n      <td>1.0</td>\n      <td>978.000000</td>\n      <td>0</td>\n    </tr>\n    <tr>\n      <th>2</th>\n      <td>12</td>\n      <td>0</td>\n      <td>3</td>\n      <td>1.0</td>\n      <td>2184.207862</td>\n      <td>2</td>\n    </tr>\n    <tr>\n      <th>3</th>\n      <td>13</td>\n      <td>0</td>\n      <td>2</td>\n      <td>2.0</td>\n      <td>2184.207862</td>\n      <td>2</td>\n    </tr>\n    <tr>\n      <th>4</th>\n      <td>15</td>\n      <td>1</td>\n      <td>2</td>\n      <td>2.0</td>\n      <td>1000.000000</td>\n      <td>3</td>\n    </tr>\n    <tr>\n      <th>...</th>\n      <td>...</td>\n      <td>...</td>\n      <td>...</td>\n      <td>...</td>\n      <td>...</td>\n      <td>...</td>\n    </tr>\n    <tr>\n      <th>795</th>\n      <td>3859</td>\n      <td>1</td>\n      <td>3</td>\n      <td>2.0</td>\n      <td>1709.000000</td>\n      <td>0</td>\n    </tr>\n    <tr>\n      <th>796</th>\n      <td>3860</td>\n      <td>1</td>\n      <td>3</td>\n      <td>1.0</td>\n      <td>2184.207862</td>\n      <td>2</td>\n    </tr>\n    <tr>\n      <th>797</th>\n      <td>3861</td>\n      <td>0</td>\n      <td>1</td>\n      <td>1.0</td>\n      <td>2184.207862</td>\n      <td>2</td>\n    </tr>\n    <tr>\n      <th>798</th>\n      <td>3864</td>\n      <td>1</td>\n      <td>3</td>\n      <td>1.0</td>\n      <td>393.000000</td>\n      <td>0</td>\n    </tr>\n    <tr>\n      <th>799</th>\n      <td>3865</td>\n      <td>1</td>\n      <td>3</td>\n      <td>1.0</td>\n      <td>393.000000</td>\n      <td>0</td>\n    </tr>\n  </tbody>\n</table>\n<p>800 rows × 6 columns</p>\n</div>"
     },
     "execution_count": 199,
     "metadata": {},
     "output_type": "execute_result"
    }
   ],
   "source": [
    "\n",
    "from sklearn.preprocessing import LabelEncoder\n",
    "\n",
    "le: LabelEncoder = LabelEncoder()\n",
    "\n",
    "columns = [\"TYPE\", \"SUBLOCALITY\"]\n",
    "\n",
    "for column in columns:\n",
    "    X_train[column] = le.fit_transform(X_train[column])\n",
    "    X_test[column] = le.fit_transform(X_test[column])\n",
    "\n",
    "X_train"
   ],
   "metadata": {
    "collapsed": false,
    "ExecuteTime": {
     "end_time": "2024-02-29T17:42:22.950322Z",
     "start_time": "2024-02-29T17:42:22.869943Z"
    }
   },
   "id": "712afbd4f854c72f",
   "execution_count": 199
  },
  {
   "cell_type": "code",
   "outputs": [],
   "source": [
    "from numpy import ndarray\n",
    "# Build a regressive model to predict the price of a house\n",
    "# based on the features in the dataset\n",
    "from sklearn.linear_model import LinearRegression\n",
    "\n",
    "model: LinearRegression = LinearRegression()\n",
    "\n",
    "model.fit(X_train, y_train)\n",
    "\n",
    "predictions: ndarray = model.predict(X_test)\n",
    "\n",
    "predictions: DataFrame = DataFrame(predictions, columns=[\"PRICE\"])"
   ],
   "metadata": {
    "collapsed": false,
    "ExecuteTime": {
     "end_time": "2024-02-29T17:42:22.953005Z",
     "start_time": "2024-02-29T17:42:22.879751Z"
    }
   },
   "id": "884d0403a7d0099c",
   "execution_count": 200
  },
  {
   "cell_type": "code",
   "outputs": [
    {
     "data": {
      "text/plain": "0.6449297918274284"
     },
     "execution_count": 201,
     "metadata": {},
     "output_type": "execute_result"
    }
   ],
   "source": [
    "# Let's compare the predictions with the actual prices using MAPE\n",
    "from sklearn.metrics import mean_absolute_percentage_error\n",
    "\n",
    "mape: float = mean_absolute_percentage_error(y_test[\"PRICE\"], predictions[\"PRICE\"])\n",
    "\n",
    "mape"
   ],
   "metadata": {
    "collapsed": false,
    "ExecuteTime": {
     "end_time": "2024-02-29T17:42:22.974466Z",
     "start_time": "2024-02-29T17:42:22.893304Z"
    }
   },
   "id": "da8f1566d34801d6",
   "execution_count": 201
  },
  {
   "cell_type": "code",
   "outputs": [
    {
     "data": {
      "text/plain": "      ID         Usage\n0      0  5.344898e+05\n1      1  1.135791e+06\n2      2  9.646607e+05\n3      3  1.934587e+06\n4      4  4.530639e+05\n..   ...           ...\n218  218  6.974491e+05\n219  219  1.302578e+06\n220  220  7.125227e+05\n221  221  4.588214e+05\n222  222  7.181487e+05\n\n[223 rows x 2 columns]",
      "text/html": "<div>\n<style scoped>\n    .dataframe tbody tr th:only-of-type {\n        vertical-align: middle;\n    }\n\n    .dataframe tbody tr th {\n        vertical-align: top;\n    }\n\n    .dataframe thead th {\n        text-align: right;\n    }\n</style>\n<table border=\"1\" class=\"dataframe\">\n  <thead>\n    <tr style=\"text-align: right;\">\n      <th></th>\n      <th>ID</th>\n      <th>Usage</th>\n    </tr>\n  </thead>\n  <tbody>\n    <tr>\n      <th>0</th>\n      <td>0</td>\n      <td>5.344898e+05</td>\n    </tr>\n    <tr>\n      <th>1</th>\n      <td>1</td>\n      <td>1.135791e+06</td>\n    </tr>\n    <tr>\n      <th>2</th>\n      <td>2</td>\n      <td>9.646607e+05</td>\n    </tr>\n    <tr>\n      <th>3</th>\n      <td>3</td>\n      <td>1.934587e+06</td>\n    </tr>\n    <tr>\n      <th>4</th>\n      <td>4</td>\n      <td>4.530639e+05</td>\n    </tr>\n    <tr>\n      <th>...</th>\n      <td>...</td>\n      <td>...</td>\n    </tr>\n    <tr>\n      <th>218</th>\n      <td>218</td>\n      <td>6.974491e+05</td>\n    </tr>\n    <tr>\n      <th>219</th>\n      <td>219</td>\n      <td>1.302578e+06</td>\n    </tr>\n    <tr>\n      <th>220</th>\n      <td>220</td>\n      <td>7.125227e+05</td>\n    </tr>\n    <tr>\n      <th>221</th>\n      <td>221</td>\n      <td>4.588214e+05</td>\n    </tr>\n    <tr>\n      <th>222</th>\n      <td>222</td>\n      <td>7.181487e+05</td>\n    </tr>\n  </tbody>\n</table>\n<p>223 rows × 2 columns</p>\n</div>"
     },
     "execution_count": 202,
     "metadata": {},
     "output_type": "execute_result"
    }
   ],
   "source": [
    "# In order to be compatible with Kaggle, our output requires \"Id\" and \"Usage\" columns.\n",
    "# So, we'll need to make \"Usage\" = \"Prices\" and \"Id\" = the index of the testing data\n",
    "output: DataFrame = DataFrame({\"ID\": predictions.index, \"Usage\": predictions[\"PRICE\"]})\n",
    "\n",
    "output\n"
   ],
   "metadata": {
    "collapsed": false,
    "ExecuteTime": {
     "end_time": "2024-02-29T17:42:23.153951Z",
     "start_time": "2024-02-29T17:42:22.961896Z"
    }
   },
   "id": "e62771c1e3d74a07",
   "execution_count": 202
  },
  {
   "cell_type": "code",
   "outputs": [],
   "source": [
    "output.to_csv(\"data/output.csv\")"
   ],
   "metadata": {
    "collapsed": false,
    "ExecuteTime": {
     "end_time": "2024-02-29T17:42:23.211322Z",
     "start_time": "2024-02-29T17:42:23.118432Z"
    }
   },
   "id": "63c71d7025d0532",
   "execution_count": 203
  },
  {
   "cell_type": "code",
   "outputs": [
    {
     "data": {
      "text/plain": "      ID    Usage\n0      0   379000\n1      1   649000\n2      2   475000\n3      3  3995000\n4      4   579000\n..   ...      ...\n218  218   370000\n219  219  2500000\n220  220   285000\n221  221   598125\n222  222   349000\n\n[223 rows x 2 columns]",
      "text/html": "<div>\n<style scoped>\n    .dataframe tbody tr th:only-of-type {\n        vertical-align: middle;\n    }\n\n    .dataframe tbody tr th {\n        vertical-align: top;\n    }\n\n    .dataframe thead th {\n        text-align: right;\n    }\n</style>\n<table border=\"1\" class=\"dataframe\">\n  <thead>\n    <tr style=\"text-align: right;\">\n      <th></th>\n      <th>ID</th>\n      <th>Usage</th>\n    </tr>\n  </thead>\n  <tbody>\n    <tr>\n      <th>0</th>\n      <td>0</td>\n      <td>379000</td>\n    </tr>\n    <tr>\n      <th>1</th>\n      <td>1</td>\n      <td>649000</td>\n    </tr>\n    <tr>\n      <th>2</th>\n      <td>2</td>\n      <td>475000</td>\n    </tr>\n    <tr>\n      <th>3</th>\n      <td>3</td>\n      <td>3995000</td>\n    </tr>\n    <tr>\n      <th>4</th>\n      <td>4</td>\n      <td>579000</td>\n    </tr>\n    <tr>\n      <th>...</th>\n      <td>...</td>\n      <td>...</td>\n    </tr>\n    <tr>\n      <th>218</th>\n      <td>218</td>\n      <td>370000</td>\n    </tr>\n    <tr>\n      <th>219</th>\n      <td>219</td>\n      <td>2500000</td>\n    </tr>\n    <tr>\n      <th>220</th>\n      <td>220</td>\n      <td>285000</td>\n    </tr>\n    <tr>\n      <th>221</th>\n      <td>221</td>\n      <td>598125</td>\n    </tr>\n    <tr>\n      <th>222</th>\n      <td>222</td>\n      <td>349000</td>\n    </tr>\n  </tbody>\n</table>\n<p>223 rows × 2 columns</p>\n</div>"
     },
     "execution_count": 204,
     "metadata": {},
     "output_type": "execute_result"
    }
   ],
   "source": [
    "# Now, we need to format `y_test` to be compatible with Kaggle\n",
    "y_test = DataFrame({\"ID\": y_test.index, \"Usage\": y_test[\"PRICE\"]})\n",
    "\n",
    "y_test.to_csv(\"data/y_test.csv\", index=False)\n",
    "\n",
    "y_test"
   ],
   "metadata": {
    "collapsed": false,
    "ExecuteTime": {
     "end_time": "2024-02-29T17:42:23.392399Z",
     "start_time": "2024-02-29T17:42:23.216528Z"
    }
   },
   "id": "b7710f935c1d60e4",
   "execution_count": 204
  }
 ],
 "metadata": {
  "kernelspec": {
   "display_name": "Python 3",
   "language": "python",
   "name": "python3"
  },
  "language_info": {
   "codemirror_mode": {
    "name": "ipython",
    "version": 2
   },
   "file_extension": ".py",
   "mimetype": "text/x-python",
   "name": "python",
   "nbconvert_exporter": "python",
   "pygments_lexer": "ipython2",
   "version": "2.7.6"
  }
 },
 "nbformat": 4,
 "nbformat_minor": 5
}
